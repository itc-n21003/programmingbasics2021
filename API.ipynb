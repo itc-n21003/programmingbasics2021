{
 "cells": [
  {
   "cell_type": "code",
   "execution_count": null,
   "metadata": {},
   "outputs": [],
   "source": [
    "import requests as req\n",
    "\n",
    "pref = input('県名をいれて')\n",
    "uri = f'https://opendata.corona.go.jp/api/Covid19JapanAll?dataName={pref}'\n",
    "\n",
    "data = req.get(uri).json()\n",
    "print(data)"
   ]
  },
  {
   "cell_type": "code",
   "execution_count": 1,
   "metadata": {},
   "outputs": [
    {
     "name": "stdout",
     "output_type": "stream",
     "text": [
      "{'date': '2021-08-15', 'name_jp': '沖縄県', 'npatients': '32909'}\n"
     ]
    }
   ],
   "source": [
    "import requests as req\n",
    "\n",
    "#pref = input('県名をいれて')\n",
    "uri = f'https://opendata.corona.go.jp/api/Covid19JapanAll?dataName=沖縄県'\n",
    "\n",
    "data = req.get(uri).json()\n",
    "print(data['itemList'][0])"
   ]
  },
  {
   "cell_type": "code",
   "execution_count": null,
   "metadata": {},
   "outputs": [],
   "source": [
    "x = data['itemList'][1]['npatients']\n",
    "y = data['itemList'][0]['npatients']"
   ]
  },
  {
   "cell_type": "code",
   "execution_count": null,
   "metadata": {},
   "outputs": [],
   "source": [
    "print(x)"
   ]
  }
 ],
 "metadata": {
  "kernelspec": {
   "display_name": "Python 3",
   "language": "python",
   "name": "python3"
  },
  "language_info": {
   "codemirror_mode": {
    "name": "ipython",
    "version": 3
   },
   "file_extension": ".py",
   "mimetype": "text/x-python",
   "name": "python",
   "nbconvert_exporter": "python",
   "pygments_lexer": "ipython3",
   "version": "3.8.10"
  }
 },
 "nbformat": 4,
 "nbformat_minor": 4
}
